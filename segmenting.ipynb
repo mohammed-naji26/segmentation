{
 "cells": [
  {
   "cell_type": "markdown",
   "metadata": {},
   "source": [
    "<h1>Segmenting and Clustring Neighborhood<h1\\>"
   ]
  },
  {
   "cell_type": "markdown",
   "metadata": {},
   "source": [
    "__Importing the necessary libraries__"
   ]
  },
  {
   "cell_type": "code",
   "execution_count": 1,
   "metadata": {},
   "outputs": [],
   "source": [
    "from bs4 import BeautifulSoup\n",
    "import requests   \n",
    "import lxml       \n",
    "import pandas as pd\n",
    "import numpy as np\n",
    "import time\n",
    "import geocoder\n",
    "import ssl\n",
    "import json\n",
    "from geopy.geocoders import Nominatim\n",
    "from pandas.io.json import json_normalize\n",
    "import matplotlib.cm as cm\n",
    "import matplotlib.colors as colors\n",
    "from sklearn.cluster import KMeans\n",
    "import folium\n",
    "\n",
    "ssl._create_default_https_context = ssl._create_unverified_context"
   ]
  },
  {
   "cell_type": "markdown",
   "metadata": {},
   "source": [
    "__Using Beautiful Soup for scraping the website__"
   ]
  },
  {
   "cell_type": "code",
   "execution_count": 2,
   "metadata": {},
   "outputs": [],
   "source": [
    "website = requests.get('https://en.wikipedia.org/wiki/List_of_postal_codes_of_Canada:_M').text\n",
    "soup = BeautifulSoup(website, 'lxml')\n",
    "table = soup.find('table', class_='wikitable')"
   ]
  },
  {
   "cell_type": "markdown",
   "metadata": {},
   "source": [
    "__Managening our table to get the information__"
   ]
  },
  {
   "cell_type": "code",
   "execution_count": 3,
   "metadata": {},
   "outputs": [
    {
     "name": "stdout",
     "output_type": "stream",
     "text": [
      "M1A,Not assigned,Not assigned\n",
      "M2A,Not assigned,Not assigned\n",
      "M3A,North York,Parkwoods\n",
      "M4A,North York,Victoria Village\n",
      "M5A,Downtown Toronto,Harbourfront\n",
      "M6A,North York,Lawrence Heights\n",
      "M6A,North York,Lawrence Manor\n",
      "M7A,Downtown Toronto,Queen's Park\n",
      "M8A,Not assigned,Not assigned\n",
      "M9A,Queen's Park,Not assigned\n",
      "M1B,Scarborough,Rouge\n",
      "M1B,Scarborough,Malvern\n",
      "M2B,Not assigned,Not assigned\n",
      "M3B,North York,Don Mills North\n",
      "M4B,East York,Woodbine Gardens\n",
      "M4B,East York,Parkview Hill\n",
      "M5B,Downtown Toronto,Ryerson\n",
      "M5B,Downtown Toronto,Garden District\n",
      "M6B,North York,Glencairn\n",
      "M7B,Not assigned,Not assigned\n",
      "M8B,Not assigned,Not assigned\n",
      "M9B,Etobicoke,Cloverdale\n",
      "M9B,Etobicoke,Islington\n",
      "M9B,Etobicoke,Martin Grove\n",
      "M9B,Etobicoke,Princess Gardens\n",
      "M9B,Etobicoke,West Deane Park\n",
      "M1C,Scarborough,Highland Creek\n",
      "M1C,Scarborough,Rouge Hill\n",
      "M1C,Scarborough,Port Union\n",
      "M2C,Not assigned,Not assigned\n",
      "M3C,North York,Flemingdon Park\n",
      "M3C,North York,Don Mills South\n",
      "M4C,East York,Woodbine Heights\n",
      "M5C,Downtown Toronto,St. James Town\n",
      "M6C,York,Humewood-Cedarvale\n",
      "M7C,Not assigned,Not assigned\n",
      "M8C,Not assigned,Not assigned\n",
      "M9C,Etobicoke,Bloordale Gardens\n",
      "M9C,Etobicoke,Eringate\n",
      "M9C,Etobicoke,Markland Wood\n",
      "M9C,Etobicoke,Old Burnhamthorpe\n",
      "M1E,Scarborough,Guildwood\n",
      "M1E,Scarborough,Morningside\n",
      "M1E,Scarborough,West Hill\n",
      "M2E,Not assigned,Not assigned\n",
      "M3E,Not assigned,Not assigned\n",
      "M4E,East Toronto,The Beaches\n",
      "M5E,Downtown Toronto,Berczy Park\n",
      "M6E,York,Caledonia-Fairbanks\n",
      "M7E,Not assigned,Not assigned\n",
      "M8E,Not assigned,Not assigned\n",
      "M9E,Not assigned,Not assigned\n",
      "M1G,Scarborough,Woburn\n",
      "M2G,Not assigned,Not assigned\n",
      "M3G,Not assigned,Not assigned\n",
      "M4G,East York,Leaside\n",
      "M5G,Downtown Toronto,Central Bay Street\n",
      "M6G,Downtown Toronto,Christie\n",
      "M7G,Not assigned,Not assigned\n",
      "M8G,Not assigned,Not assigned\n",
      "M9G,Not assigned,Not assigned\n",
      "M1H,Scarborough,Cedarbrae\n",
      "M2H,North York,Hillcrest Village\n",
      "M3H,North York,Bathurst Manor\n",
      "M3H,North York,Downsview North\n",
      "M3H,North York,Wilson Heights\n",
      "M4H,East York,Thorncliffe Park\n",
      "M5H,Downtown Toronto,Adelaide\n",
      "M5H,Downtown Toronto,King\n",
      "M5H,Downtown Toronto,Richmond\n",
      "M6H,West Toronto,Dovercourt Village\n",
      "M6H,West Toronto,Dufferin\n",
      "M7H,Not assigned,Not assigned\n",
      "M8H,Not assigned,Not assigned\n",
      "M9H,Not assigned,Not assigned\n",
      "M1J,Scarborough,Scarborough Village\n",
      "M2J,North York,Fairview\n",
      "M2J,North York,Henry Farm\n",
      "M2J,North York,Oriole\n",
      "M3J,North York,Northwood Park\n",
      "M3J,North York,York University\n",
      "M4J,East York,East Toronto\n",
      "M5J,Downtown Toronto,Harbourfront East\n",
      "M5J,Downtown Toronto,Toronto Islands\n",
      "M5J,Downtown Toronto,Union Station\n",
      "M6J,West Toronto,Little Portugal\n",
      "M6J,West Toronto,Trinity\n",
      "M7J,Not assigned,Not assigned\n",
      "M8J,Not assigned,Not assigned\n",
      "M9J,Not assigned,Not assigned\n",
      "M1K,Scarborough,East Birchmount Park\n",
      "M1K,Scarborough,Ionview\n",
      "M1K,Scarborough,Kennedy Park\n",
      "M2K,North York,Bayview Village\n",
      "M3K,North York,CFB Toronto\n",
      "M3K,North York,Downsview East\n",
      "M4K,East Toronto,The Danforth West\n",
      "M4K,East Toronto,Riverdale\n",
      "M5K,Downtown Toronto,Design Exchange\n",
      "M5K,Downtown Toronto,Toronto Dominion Centre\n",
      "M6K,West Toronto,Brockton\n",
      "M6K,West Toronto,Exhibition Place\n",
      "M6K,West Toronto,Parkdale Village\n",
      "M7K,Not assigned,Not assigned\n",
      "M8K,Not assigned,Not assigned\n",
      "M9K,Not assigned,Not assigned\n",
      "M1L,Scarborough,Clairlea\n",
      "M1L,Scarborough,Golden Mile\n",
      "M1L,Scarborough,Oakridge\n",
      "M2L,North York,Silver Hills\n",
      "M2L,North York,York Mills\n",
      "M3L,North York,Downsview West\n",
      "M4L,East Toronto,The Beaches West\n",
      "M4L,East Toronto,India Bazaar\n",
      "M5L,Downtown Toronto,Commerce Court\n",
      "M5L,Downtown Toronto,Victoria Hotel\n",
      "M6L,North York,Downsview\n",
      "M6L,North York,North Park\n",
      "M6L,North York,Upwood Park\n",
      "M7L,Not assigned,Not assigned\n",
      "M8L,Not assigned,Not assigned\n",
      "M9L,North York,Humber Summit\n",
      "M1M,Scarborough,Cliffcrest\n",
      "M1M,Scarborough,Cliffside\n",
      "M1M,Scarborough,Scarborough Village West\n",
      "M2M,North York,Newtonbrook\n",
      "M2M,North York,Willowdale\n",
      "M3M,North York,Downsview Central\n",
      "M4M,East Toronto,Studio District\n",
      "M5M,North York,Bedford Park\n",
      "M5M,North York,Lawrence Manor East\n",
      "M6M,York,Del Ray\n",
      "M6M,York,Keelesdale\n",
      "M6M,York,Mount Dennis\n",
      "M6M,York,Silverthorn\n",
      "M7M,Not assigned,Not assigned\n",
      "M8M,Not assigned,Not assigned\n",
      "M9M,North York,Emery\n",
      "M9M,North York,Humberlea\n",
      "M1N,Scarborough,Birch Cliff\n",
      "M1N,Scarborough,Cliffside West\n",
      "M2N,North York,Willowdale South\n",
      "M3N,North York,Downsview Northwest\n",
      "M4N,Central Toronto,Lawrence Park\n",
      "M5N,Central Toronto,Roselawn\n",
      "M6N,York,The Junction North\n",
      "M6N,York,Runnymede\n",
      "M7N,Not assigned,Not assigned\n",
      "M8N,Not assigned,Not assigned\n",
      "M9N,York,Weston\n",
      "M1P,Scarborough,Dorset Park\n",
      "M1P,Scarborough,Scarborough Town Centre\n",
      "M1P,Scarborough,Wexford Heights\n",
      "M2P,North York,York Mills West\n",
      "M3P,Not assigned,Not assigned\n",
      "M4P,Central Toronto,Davisville North\n",
      "M5P,Central Toronto,Forest Hill North\n",
      "M5P,Central Toronto,Forest Hill West\n",
      "M6P,West Toronto,High Park\n",
      "M6P,West Toronto,The Junction South\n",
      "M7P,Not assigned,Not assigned\n",
      "M8P,Not assigned,Not assigned\n",
      "M9P,Etobicoke,Westmount\n",
      "M1R,Scarborough,Maryvale\n",
      "M1R,Scarborough,Wexford\n",
      "M2R,North York,Willowdale West\n",
      "M3R,Not assigned,Not assigned\n",
      "M4R,Central Toronto,North Toronto West\n",
      "M5R,Central Toronto,The Annex\n",
      "M5R,Central Toronto,North Midtown\n",
      "M5R,Central Toronto,Yorkville\n",
      "M6R,West Toronto,Parkdale\n",
      "M6R,West Toronto,Roncesvalles\n",
      "M7R,Mississauga,Canada Post Gateway Processing Centre\n",
      "M8R,Not assigned,Not assigned\n",
      "M9R,Etobicoke,Kingsview Village\n",
      "M9R,Etobicoke,Martin Grove Gardens\n",
      "M9R,Etobicoke,Richview Gardens\n",
      "M9R,Etobicoke,St. Phillips\n",
      "M1S,Scarborough,Agincourt\n",
      "M2S,Not assigned,Not assigned\n",
      "M3S,Not assigned,Not assigned\n",
      "M4S,Central Toronto,Davisville\n",
      "M5S,Downtown Toronto,Harbord\n",
      "M5S,Downtown Toronto,University of Toronto\n",
      "M6S,West Toronto,Runnymede\n",
      "M6S,West Toronto,Swansea\n",
      "M7S,Not assigned,Not assigned\n",
      "M8S,Not assigned,Not assigned\n",
      "M9S,Not assigned,Not assigned\n",
      "M1T,Scarborough,Clarks Corners\n",
      "M1T,Scarborough,Sullivan\n",
      "M1T,Scarborough,Tam O'Shanter\n",
      "M2T,Not assigned,Not assigned\n",
      "M3T,Not assigned,Not assigned\n",
      "M4T,Central Toronto,Moore Park\n",
      "M4T,Central Toronto,Summerhill East\n",
      "M5T,Downtown Toronto,Chinatown\n",
      "M5T,Downtown Toronto,Grange Park\n",
      "M5T,Downtown Toronto,Kensington Market\n",
      "M6T,Not assigned,Not assigned\n",
      "M7T,Not assigned,Not assigned\n",
      "M8T,Not assigned,Not assigned\n",
      "M9T,Not assigned,Not assigned\n",
      "M1V,Scarborough,Agincourt North\n",
      "M1V,Scarborough,L'Amoreaux East\n",
      "M1V,Scarborough,Milliken\n",
      "M1V,Scarborough,Steeles East\n",
      "M2V,Not assigned,Not assigned\n",
      "M3V,Not assigned,Not assigned\n",
      "M4V,Central Toronto,Deer Park\n",
      "M4V,Central Toronto,Forest Hill SE\n",
      "M4V,Central Toronto,Rathnelly\n",
      "M4V,Central Toronto,South Hill\n",
      "M4V,Central Toronto,Summerhill West\n",
      "M5V,Downtown Toronto,CN Tower\n",
      "M5V,Downtown Toronto,Bathurst Quay\n",
      "M5V,Downtown Toronto,Island airport\n",
      "M5V,Downtown Toronto,Harbourfront West\n",
      "M5V,Downtown Toronto,King and Spadina\n",
      "M5V,Downtown Toronto,Railway Lands\n",
      "M5V,Downtown Toronto,South Niagara\n",
      "M6V,Not assigned,Not assigned\n",
      "M7V,Not assigned,Not assigned\n",
      "M8V,Etobicoke,Humber Bay Shores\n",
      "M8V,Etobicoke,Mimico South\n",
      "M8V,Etobicoke,New Toronto\n",
      "M9V,Etobicoke,Albion Gardens\n",
      "M9V,Etobicoke,Beaumond Heights\n",
      "M9V,Etobicoke,Humbergate\n",
      "M9V,Etobicoke,Jamestown\n",
      "M9V,Etobicoke,Mount Olive\n",
      "M9V,Etobicoke,Silverstone\n",
      "M9V,Etobicoke,South Steeles\n",
      "M9V,Etobicoke,Thistletown\n",
      "M1W,Scarborough,L'Amoreaux West\n",
      "M2W,Not assigned,Not assigned\n",
      "M3W,Not assigned,Not assigned\n",
      "M4W,Downtown Toronto,Rosedale\n",
      "M5W,Downtown Toronto,Stn A PO Boxes 25 The Esplanade\n",
      "M6W,Not assigned,Not assigned\n",
      "M7W,Not assigned,Not assigned\n",
      "M8W,Etobicoke,Alderwood\n",
      "M8W,Etobicoke,Long Branch\n",
      "M9W,Etobicoke,Northwest\n",
      "M1X,Scarborough,Upper Rouge\n",
      "M2X,Not assigned,Not assigned\n",
      "M3X,Not assigned,Not assigned\n",
      "M4X,Downtown Toronto,Cabbagetown\n",
      "M4X,Downtown Toronto,St. James Town\n",
      "M5X,Downtown Toronto,First Canadian Place\n",
      "M5X,Downtown Toronto,Underground city\n",
      "M6X,Not assigned,Not assigned\n",
      "M7X,Not assigned,Not assigned\n",
      "M8X,Etobicoke,The Kingsway\n",
      "M8X,Etobicoke,Montgomery Road\n",
      "M8X,Etobicoke,Old Mill North\n",
      "M9X,Not assigned,Not assigned\n",
      "M1Y,Not assigned,Not assigned\n",
      "M2Y,Not assigned,Not assigned\n",
      "M3Y,Not assigned,Not assigned\n",
      "M4Y,Downtown Toronto,Church and Wellesley\n",
      "M5Y,Not assigned,Not assigned\n",
      "M6Y,Not assigned,Not assigned\n",
      "M7Y,East Toronto,Business Reply Mail Processing Centre 969 Eastern\n",
      "M8Y,Etobicoke,Humber Bay\n",
      "M8Y,Etobicoke,King's Mill Park\n",
      "M8Y,Etobicoke,Kingsway Park South East\n",
      "M8Y,Etobicoke,Mimico NE\n",
      "M8Y,Etobicoke,Old Mill South\n",
      "M8Y,Etobicoke,The Queensway East\n",
      "M8Y,Etobicoke,Royal York South East\n",
      "M8Y,Etobicoke,Sunnylea\n",
      "M9Y,Not assigned,Not assigned\n",
      "M1Z,Not assigned,Not assigned\n",
      "M2Z,Not assigned,Not assigned\n",
      "M3Z,Not assigned,Not assigned\n",
      "M4Z,Not assigned,Not assigned\n",
      "M5Z,Not assigned,Not assigned\n",
      "M6Z,Not assigned,Not assigned\n",
      "M7Z,Not assigned,Not assigned\n",
      "M8Z,Etobicoke,Kingsway Park South West\n",
      "M8Z,Etobicoke,Mimico NW\n",
      "M8Z,Etobicoke,The Queensway West\n",
      "M8Z,Etobicoke,Royal York South West\n",
      "M8Z,Etobicoke,South of Bloor\n",
      "M9Z,Not assigned,Not assigned\n",
      "\n"
     ]
    }
   ],
   "source": [
    "tablex = \"\"\n",
    "for tr in table.find_all('tr'):\n",
    "    row = \"\"\n",
    "    for tds in tr.find_all('td'):\n",
    "        row = row + \",\" + tds.text\n",
    "    tablex = tablex + row[1:]\n",
    "print(tablex)"
   ]
  },
  {
   "cell_type": "markdown",
   "metadata": {},
   "source": [
    "__Converting data to .csv file__"
   ]
  },
  {
   "cell_type": "code",
   "execution_count": 4,
   "metadata": {},
   "outputs": [
    {
     "data": {
      "text/plain": [
       "8708"
      ]
     },
     "execution_count": 4,
     "metadata": {},
     "output_type": "execute_result"
    }
   ],
   "source": [
    "csv_data = open('toronto.csv', 'wb')\n",
    "csv_data.write(bytes(tablex,encoding=\"ascii\",errors=\"ignore\"))"
   ]
  },
  {
   "cell_type": "markdown",
   "metadata": {},
   "source": [
    "__Converting data to DataFrame__"
   ]
  },
  {
   "cell_type": "code",
   "execution_count": 5,
   "metadata": {},
   "outputs": [
    {
     "data": {
      "text/html": [
       "<div>\n",
       "<style scoped>\n",
       "    .dataframe tbody tr th:only-of-type {\n",
       "        vertical-align: middle;\n",
       "    }\n",
       "\n",
       "    .dataframe tbody tr th {\n",
       "        vertical-align: top;\n",
       "    }\n",
       "\n",
       "    .dataframe thead th {\n",
       "        text-align: right;\n",
       "    }\n",
       "</style>\n",
       "<table border=\"1\" class=\"dataframe\">\n",
       "  <thead>\n",
       "    <tr style=\"text-align: right;\">\n",
       "      <th></th>\n",
       "      <th>Postalcode</th>\n",
       "      <th>Borough</th>\n",
       "      <th>Neighbourhood</th>\n",
       "    </tr>\n",
       "  </thead>\n",
       "  <tbody>\n",
       "    <tr>\n",
       "      <td>0</td>\n",
       "      <td>M1A</td>\n",
       "      <td>Not assigned</td>\n",
       "      <td>Not assigned</td>\n",
       "    </tr>\n",
       "    <tr>\n",
       "      <td>1</td>\n",
       "      <td>M2A</td>\n",
       "      <td>Not assigned</td>\n",
       "      <td>Not assigned</td>\n",
       "    </tr>\n",
       "    <tr>\n",
       "      <td>2</td>\n",
       "      <td>M3A</td>\n",
       "      <td>North York</td>\n",
       "      <td>Parkwoods</td>\n",
       "    </tr>\n",
       "    <tr>\n",
       "      <td>3</td>\n",
       "      <td>M4A</td>\n",
       "      <td>North York</td>\n",
       "      <td>Victoria Village</td>\n",
       "    </tr>\n",
       "    <tr>\n",
       "      <td>4</td>\n",
       "      <td>M5A</td>\n",
       "      <td>Downtown Toronto</td>\n",
       "      <td>Harbourfront</td>\n",
       "    </tr>\n",
       "  </tbody>\n",
       "</table>\n",
       "</div>"
      ],
      "text/plain": [
       "  Postalcode           Borough     Neighbourhood\n",
       "0        M1A      Not assigned      Not assigned\n",
       "1        M2A      Not assigned      Not assigned\n",
       "2        M3A        North York         Parkwoods\n",
       "3        M4A        North York  Victoria Village\n",
       "4        M5A  Downtown Toronto      Harbourfront"
      ]
     },
     "execution_count": 5,
     "metadata": {},
     "output_type": "execute_result"
    }
   ],
   "source": [
    "df = pd.read_csv('toronto.csv', header = None)\n",
    "df.columns = ['Postalcode', 'Borough', 'Neighbourhood']\n",
    "df.head()"
   ]
  },
  {
   "cell_type": "markdown",
   "metadata": {},
   "source": [
    "__Deleting \"Not assigned\" Borough rows__"
   ]
  },
  {
   "cell_type": "code",
   "execution_count": 6,
   "metadata": {},
   "outputs": [
    {
     "data": {
      "text/html": [
       "<div>\n",
       "<style scoped>\n",
       "    .dataframe tbody tr th:only-of-type {\n",
       "        vertical-align: middle;\n",
       "    }\n",
       "\n",
       "    .dataframe tbody tr th {\n",
       "        vertical-align: top;\n",
       "    }\n",
       "\n",
       "    .dataframe thead th {\n",
       "        text-align: right;\n",
       "    }\n",
       "</style>\n",
       "<table border=\"1\" class=\"dataframe\">\n",
       "  <thead>\n",
       "    <tr style=\"text-align: right;\">\n",
       "      <th></th>\n",
       "      <th>Postalcode</th>\n",
       "      <th>Borough</th>\n",
       "      <th>Neighbourhood</th>\n",
       "    </tr>\n",
       "  </thead>\n",
       "  <tbody>\n",
       "    <tr>\n",
       "      <td>2</td>\n",
       "      <td>M3A</td>\n",
       "      <td>North York</td>\n",
       "      <td>Parkwoods</td>\n",
       "    </tr>\n",
       "    <tr>\n",
       "      <td>3</td>\n",
       "      <td>M4A</td>\n",
       "      <td>North York</td>\n",
       "      <td>Victoria Village</td>\n",
       "    </tr>\n",
       "    <tr>\n",
       "      <td>4</td>\n",
       "      <td>M5A</td>\n",
       "      <td>Downtown Toronto</td>\n",
       "      <td>Harbourfront</td>\n",
       "    </tr>\n",
       "    <tr>\n",
       "      <td>5</td>\n",
       "      <td>M6A</td>\n",
       "      <td>North York</td>\n",
       "      <td>Lawrence Heights</td>\n",
       "    </tr>\n",
       "    <tr>\n",
       "      <td>6</td>\n",
       "      <td>M6A</td>\n",
       "      <td>North York</td>\n",
       "      <td>Lawrence Manor</td>\n",
       "    </tr>\n",
       "  </tbody>\n",
       "</table>\n",
       "</div>"
      ],
      "text/plain": [
       "  Postalcode           Borough     Neighbourhood\n",
       "2        M3A        North York         Parkwoods\n",
       "3        M4A        North York  Victoria Village\n",
       "4        M5A  Downtown Toronto      Harbourfront\n",
       "5        M6A        North York  Lawrence Heights\n",
       "6        M6A        North York    Lawrence Manor"
      ]
     },
     "execution_count": 6,
     "metadata": {},
     "output_type": "execute_result"
    }
   ],
   "source": [
    "indexnum = df[df['Borough'] == 'Not assigned'].index\n",
    "df.drop(indexnum, inplace = True)\n",
    "df.head()"
   ]
  },
  {
   "cell_type": "markdown",
   "metadata": {},
   "source": [
    "__If a cell has a borough but a Not assigned neighborhood, then the neighborhood will be the same as the borough.__"
   ]
  },
  {
   "cell_type": "code",
   "execution_count": 7,
   "metadata": {},
   "outputs": [
    {
     "data": {
      "text/html": [
       "<div>\n",
       "<style scoped>\n",
       "    .dataframe tbody tr th:only-of-type {\n",
       "        vertical-align: middle;\n",
       "    }\n",
       "\n",
       "    .dataframe tbody tr th {\n",
       "        vertical-align: top;\n",
       "    }\n",
       "\n",
       "    .dataframe thead th {\n",
       "        text-align: right;\n",
       "    }\n",
       "</style>\n",
       "<table border=\"1\" class=\"dataframe\">\n",
       "  <thead>\n",
       "    <tr style=\"text-align: right;\">\n",
       "      <th></th>\n",
       "      <th>Postalcode</th>\n",
       "      <th>Borough</th>\n",
       "      <th>Neighbourhood</th>\n",
       "    </tr>\n",
       "  </thead>\n",
       "  <tbody>\n",
       "    <tr>\n",
       "      <td>2</td>\n",
       "      <td>M3A</td>\n",
       "      <td>North York</td>\n",
       "      <td>Parkwoods</td>\n",
       "    </tr>\n",
       "    <tr>\n",
       "      <td>3</td>\n",
       "      <td>M4A</td>\n",
       "      <td>North York</td>\n",
       "      <td>Victoria Village</td>\n",
       "    </tr>\n",
       "    <tr>\n",
       "      <td>4</td>\n",
       "      <td>M5A</td>\n",
       "      <td>Downtown Toronto</td>\n",
       "      <td>Harbourfront</td>\n",
       "    </tr>\n",
       "    <tr>\n",
       "      <td>5</td>\n",
       "      <td>M6A</td>\n",
       "      <td>North York</td>\n",
       "      <td>Lawrence Heights</td>\n",
       "    </tr>\n",
       "    <tr>\n",
       "      <td>6</td>\n",
       "      <td>M6A</td>\n",
       "      <td>North York</td>\n",
       "      <td>Lawrence Manor</td>\n",
       "    </tr>\n",
       "    <tr>\n",
       "      <td>7</td>\n",
       "      <td>M7A</td>\n",
       "      <td>Downtown Toronto</td>\n",
       "      <td>Queen's Park</td>\n",
       "    </tr>\n",
       "    <tr>\n",
       "      <td>9</td>\n",
       "      <td>M9A</td>\n",
       "      <td>Queen's Park</td>\n",
       "      <td>Queen's Park</td>\n",
       "    </tr>\n",
       "    <tr>\n",
       "      <td>10</td>\n",
       "      <td>M1B</td>\n",
       "      <td>Scarborough</td>\n",
       "      <td>Rouge</td>\n",
       "    </tr>\n",
       "    <tr>\n",
       "      <td>11</td>\n",
       "      <td>M1B</td>\n",
       "      <td>Scarborough</td>\n",
       "      <td>Malvern</td>\n",
       "    </tr>\n",
       "    <tr>\n",
       "      <td>13</td>\n",
       "      <td>M3B</td>\n",
       "      <td>North York</td>\n",
       "      <td>Don Mills North</td>\n",
       "    </tr>\n",
       "  </tbody>\n",
       "</table>\n",
       "</div>"
      ],
      "text/plain": [
       "   Postalcode           Borough     Neighbourhood\n",
       "2         M3A        North York         Parkwoods\n",
       "3         M4A        North York  Victoria Village\n",
       "4         M5A  Downtown Toronto      Harbourfront\n",
       "5         M6A        North York  Lawrence Heights\n",
       "6         M6A        North York    Lawrence Manor\n",
       "7         M7A  Downtown Toronto      Queen's Park\n",
       "9         M9A      Queen's Park      Queen's Park\n",
       "10        M1B       Scarborough             Rouge\n",
       "11        M1B       Scarborough           Malvern\n",
       "13        M3B        North York   Don Mills North"
      ]
     },
     "execution_count": 7,
     "metadata": {},
     "output_type": "execute_result"
    }
   ],
   "source": [
    "df.loc[df['Neighbourhood'] == 'Not assigned', 'Neighbourhood'] = df['Borough']\n",
    "df.head(10)"
   ]
  },
  {
   "cell_type": "markdown",
   "metadata": {},
   "source": [
    "__Combinning the same area code rows__"
   ]
  },
  {
   "cell_type": "code",
   "execution_count": 8,
   "metadata": {},
   "outputs": [
    {
     "data": {
      "text/html": [
       "<div>\n",
       "<style scoped>\n",
       "    .dataframe tbody tr th:only-of-type {\n",
       "        vertical-align: middle;\n",
       "    }\n",
       "\n",
       "    .dataframe tbody tr th {\n",
       "        vertical-align: top;\n",
       "    }\n",
       "\n",
       "    .dataframe thead th {\n",
       "        text-align: right;\n",
       "    }\n",
       "</style>\n",
       "<table border=\"1\" class=\"dataframe\">\n",
       "  <thead>\n",
       "    <tr style=\"text-align: right;\">\n",
       "      <th></th>\n",
       "      <th>Postalcode</th>\n",
       "      <th>Borough</th>\n",
       "      <th>Neighbourhood</th>\n",
       "    </tr>\n",
       "  </thead>\n",
       "  <tbody>\n",
       "    <tr>\n",
       "      <td>0</td>\n",
       "      <td>M3A</td>\n",
       "      <td>North York</td>\n",
       "      <td>Parkwoods</td>\n",
       "    </tr>\n",
       "    <tr>\n",
       "      <td>1</td>\n",
       "      <td>M4A</td>\n",
       "      <td>North York</td>\n",
       "      <td>Victoria Village</td>\n",
       "    </tr>\n",
       "    <tr>\n",
       "      <td>2</td>\n",
       "      <td>M5A</td>\n",
       "      <td>Downtown Toronto</td>\n",
       "      <td>Harbourfront</td>\n",
       "    </tr>\n",
       "    <tr>\n",
       "      <td>3</td>\n",
       "      <td>M6A</td>\n",
       "      <td>North York</td>\n",
       "      <td>Lawrence Heights,Lawrence Manor</td>\n",
       "    </tr>\n",
       "    <tr>\n",
       "      <td>4</td>\n",
       "      <td>M7A</td>\n",
       "      <td>Downtown Toronto</td>\n",
       "      <td>Queen's Park</td>\n",
       "    </tr>\n",
       "  </tbody>\n",
       "</table>\n",
       "</div>"
      ],
      "text/plain": [
       "  Postalcode           Borough                    Neighbourhood\n",
       "0        M3A        North York                        Parkwoods\n",
       "1        M4A        North York                 Victoria Village\n",
       "2        M5A  Downtown Toronto                     Harbourfront\n",
       "3        M6A        North York  Lawrence Heights,Lawrence Manor\n",
       "4        M7A  Downtown Toronto                     Queen's Park"
      ]
     },
     "execution_count": 8,
     "metadata": {},
     "output_type": "execute_result"
    }
   ],
   "source": [
    "df_combin = df.groupby(['Postalcode', 'Borough'], sort = False).agg( ','.join)\n",
    "df_2 = df_combin.reset_index()\n",
    "df_2.head()"
   ]
  },
  {
   "cell_type": "markdown",
   "metadata": {},
   "source": [
    "__Finding out the shape of the data frame by using .shape method__"
   ]
  },
  {
   "cell_type": "code",
   "execution_count": 9,
   "metadata": {},
   "outputs": [
    {
     "data": {
      "text/plain": [
       "(103, 3)"
      ]
     },
     "execution_count": 9,
     "metadata": {},
     "output_type": "execute_result"
    }
   ],
   "source": [
    "df_2.shape"
   ]
  },
  {
   "cell_type": "markdown",
   "metadata": {},
   "source": [
    "__The Beginning of 2nd Question's Answer__"
   ]
  },
  {
   "cell_type": "code",
   "execution_count": 10,
   "metadata": {},
   "outputs": [
    {
     "name": "stdout",
     "output_type": "stream",
     "text": [
      "Toronto has  11 Boroughs and 102 Neighborhoods.\n"
     ]
    }
   ],
   "source": [
    "url = 'http://cocl.us/Geospatial_data'\n",
    "lat_long_df = pd.read_csv(url)\n",
    "\n",
    "\n",
    "detailed_df = pd.DataFrame({'Postalcode':df_2['Postalcode'], \n",
    "                            'Borough':df_2['Borough'], \n",
    "                            'Neighbourhood':df_2['Neighbourhood'], \n",
    "                            'Latitude':lat_long_df['Latitude'], \n",
    "                            'Longitude':lat_long_df['Longitude']})\n",
    "\n",
    "\n",
    "print(\"Toronto has  {} Boroughs and {} Neighborhoods.\".format(len(detailed_df.Borough.unique()), len(detailed_df.Neighbourhood.unique())))"
   ]
  },
  {
   "cell_type": "markdown",
   "metadata": {},
   "source": [
    "__Cluster Analysing__"
   ]
  },
  {
   "cell_type": "code",
   "execution_count": 11,
   "metadata": {},
   "outputs": [
    {
     "name": "stdout",
     "output_type": "stream",
     "text": [
      "Downtown Toronto has a total of 19 postal codes.\n",
      "Central Toronto has a total of 9 postal codes.\n",
      "West Toronto has a total of 6 postal codes.\n",
      "East Toronto has a total of 5 postal codes.\n"
     ]
    }
   ],
   "source": [
    "borough = ['Downtown Toronto', 'Central Toronto', 'West Toronto', 'East Toronto']\n",
    "for tor in borough:\n",
    "    print(\"{} has a total of {} postal codes.\".format(tor, detailed_df[detailed_df['Borough'] == tor].Postalcode.count()))"
   ]
  },
  {
   "cell_type": "code",
   "execution_count": 12,
   "metadata": {},
   "outputs": [
    {
     "name": "stdout",
     "output_type": "stream",
     "text": [
      "(39, 3)\n"
     ]
    },
    {
     "data": {
      "text/html": [
       "<div>\n",
       "<style scoped>\n",
       "    .dataframe tbody tr th:only-of-type {\n",
       "        vertical-align: middle;\n",
       "    }\n",
       "\n",
       "    .dataframe tbody tr th {\n",
       "        vertical-align: top;\n",
       "    }\n",
       "\n",
       "    .dataframe thead th {\n",
       "        text-align: right;\n",
       "    }\n",
       "</style>\n",
       "<table border=\"1\" class=\"dataframe\">\n",
       "  <thead>\n",
       "    <tr style=\"text-align: right;\">\n",
       "      <th></th>\n",
       "      <th>Postalcode</th>\n",
       "      <th>Borough</th>\n",
       "      <th>Neighbourhood</th>\n",
       "    </tr>\n",
       "  </thead>\n",
       "  <tbody>\n",
       "    <tr>\n",
       "      <td>0</td>\n",
       "      <td>M5A</td>\n",
       "      <td>Downtown Toronto</td>\n",
       "      <td>Harbourfront</td>\n",
       "    </tr>\n",
       "    <tr>\n",
       "      <td>1</td>\n",
       "      <td>M7A</td>\n",
       "      <td>Downtown Toronto</td>\n",
       "      <td>Queen's Park</td>\n",
       "    </tr>\n",
       "    <tr>\n",
       "      <td>2</td>\n",
       "      <td>M5B</td>\n",
       "      <td>Downtown Toronto</td>\n",
       "      <td>Ryerson,Garden District</td>\n",
       "    </tr>\n",
       "    <tr>\n",
       "      <td>3</td>\n",
       "      <td>M5C</td>\n",
       "      <td>Downtown Toronto</td>\n",
       "      <td>St. James Town</td>\n",
       "    </tr>\n",
       "    <tr>\n",
       "      <td>4</td>\n",
       "      <td>M5E</td>\n",
       "      <td>Downtown Toronto</td>\n",
       "      <td>Berczy Park</td>\n",
       "    </tr>\n",
       "    <tr>\n",
       "      <td>5</td>\n",
       "      <td>M5G</td>\n",
       "      <td>Downtown Toronto</td>\n",
       "      <td>Central Bay Street</td>\n",
       "    </tr>\n",
       "    <tr>\n",
       "      <td>6</td>\n",
       "      <td>M6G</td>\n",
       "      <td>Downtown Toronto</td>\n",
       "      <td>Christie</td>\n",
       "    </tr>\n",
       "    <tr>\n",
       "      <td>7</td>\n",
       "      <td>M5H</td>\n",
       "      <td>Downtown Toronto</td>\n",
       "      <td>Adelaide,King,Richmond</td>\n",
       "    </tr>\n",
       "    <tr>\n",
       "      <td>8</td>\n",
       "      <td>M5J</td>\n",
       "      <td>Downtown Toronto</td>\n",
       "      <td>Harbourfront East,Toronto Islands,Union Station</td>\n",
       "    </tr>\n",
       "    <tr>\n",
       "      <td>9</td>\n",
       "      <td>M5K</td>\n",
       "      <td>Downtown Toronto</td>\n",
       "      <td>Design Exchange,Toronto Dominion Centre</td>\n",
       "    </tr>\n",
       "  </tbody>\n",
       "</table>\n",
       "</div>"
      ],
      "text/plain": [
       "  Postalcode           Borough  \\\n",
       "0        M5A  Downtown Toronto   \n",
       "1        M7A  Downtown Toronto   \n",
       "2        M5B  Downtown Toronto   \n",
       "3        M5C  Downtown Toronto   \n",
       "4        M5E  Downtown Toronto   \n",
       "5        M5G  Downtown Toronto   \n",
       "6        M6G  Downtown Toronto   \n",
       "7        M5H  Downtown Toronto   \n",
       "8        M5J  Downtown Toronto   \n",
       "9        M5K  Downtown Toronto   \n",
       "\n",
       "                                     Neighbourhood  \n",
       "0                                     Harbourfront  \n",
       "1                                     Queen's Park  \n",
       "2                          Ryerson,Garden District  \n",
       "3                                   St. James Town  \n",
       "4                                      Berczy Park  \n",
       "5                               Central Bay Street  \n",
       "6                                         Christie  \n",
       "7                           Adelaide,King,Richmond  \n",
       "8  Harbourfront East,Toronto Islands,Union Station  \n",
       "9          Design Exchange,Toronto Dominion Centre  "
      ]
     },
     "execution_count": 12,
     "metadata": {},
     "output_type": "execute_result"
    }
   ],
   "source": [
    "Downtown_Toronto = df_2[df_2['Borough'] == 'Downtown Toronto']\n",
    "Central_Toronto= df_2[df_2['Borough'] == 'Central Toronto']\n",
    "West_Toronto = df_2[df_2['Borough'] == 'West Toronto']\n",
    "East_Toronto = df_2[df_2['Borough'] == 'East Toronto']\n",
    "\n",
    "combined = pd.concat([Downtown_Toronto, Central_Toronto, West_Toronto, East_Toronto], sort=False)\n",
    "toronto_dataframe = combined.reset_index(drop=True)\n",
    "\n",
    "print(toronto_dataframe.shape)\n",
    "toronto_dataframe.head(10)"
   ]
  },
  {
   "cell_type": "code",
   "execution_count": 13,
   "metadata": {},
   "outputs": [
    {
     "name": "stdout",
     "output_type": "stream",
     "text": [
      "Coordinates of Toronto are 43.653963, -79.387207. \n"
     ]
    }
   ],
   "source": [
    "address = 'Toronto, Ontario'\n",
    "geolocator = Nominatim(user_agent=\"toronto_explorer\")\n",
    "location = geolocator.geocode(address)\n",
    "latitude = location.latitude\n",
    "longitude = location.longitude\n",
    "print('Coordinates of Toronto are {}, {}. '.format(latitude, longitude))"
   ]
  },
  {
   "cell_type": "code",
   "execution_count": 14,
   "metadata": {},
   "outputs": [
    {
     "data": {
      "text/html": [
       "<div style=\"width:100%;\"><div style=\"position:relative;width:100%;height:0;padding-bottom:60%;\"><iframe src=\"data:text/html;charset=utf-8;base64,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\" style=\"position:absolute;width:100%;height:100%;left:0;top:0;border:none !important;\" allowfullscreen webkitallowfullscreen mozallowfullscreen></iframe></div></div>"
      ],
      "text/plain": [
       "<folium.folium.Map at 0xde9cfc4288>"
      ]
     },
     "execution_count": 14,
     "metadata": {},
     "output_type": "execute_result"
    }
   ],
   "source": [
    "map_toronto = folium.Map(location=[latitude, longitude], zoom_start=11)\n",
    "\n",
    "# adding markers\n",
    "for lat, lng, borough, neighborhood in zip(lat_long_df['Latitude'], lat_long_df['Longitude'], toronto_dataframe['Borough'], toronto_dataframe['Neighbourhood']):\n",
    "    label = '{}, {}'.format(neighborhood, borough)\n",
    "    label = folium.Popup(label, parse_html=True)\n",
    "    folium.CircleMarker(\n",
    "        [lat, lng],\n",
    "        radius=5,\n",
    "        popup=label,\n",
    "        color='blue',\n",
    "        fill=True,\n",
    "        fill_color='#3186cc',\n",
    "        fill_opacity=0.5,\n",
    "        parse_html=False).add_to(map_toronto)\n",
    "    \n",
    "map_toronto"
   ]
  },
  {
   "cell_type": "markdown",
   "metadata": {},
   "source": [
    "__Using Foursqure for exploring neighborhood__"
   ]
  },
  {
   "cell_type": "code",
   "execution_count": 15,
   "metadata": {},
   "outputs": [],
   "source": [
    "client_id = 'IESMHKZNKMWB0YY1SYEMABXTVH1EZIJWHCS1VPI115CL2NUB'\n",
    "client_secret = 'MFZLEQSUITYU3IUAG5JRLAQTEHRLCKYE5TQDOX5PSFJMTX1D'\n",
    "version = '20180605'"
   ]
  },
  {
   "cell_type": "code",
   "execution_count": 16,
   "metadata": {},
   "outputs": [
    {
     "data": {
      "text/plain": [
       "'Harbourfront'"
      ]
     },
     "execution_count": 16,
     "metadata": {},
     "output_type": "execute_result"
    }
   ],
   "source": [
    "# first neighborhood \n",
    "toronto_dataframe.loc[0, 'Neighbourhood']"
   ]
  },
  {
   "cell_type": "code",
   "execution_count": 17,
   "metadata": {},
   "outputs": [
    {
     "name": "stdout",
     "output_type": "stream",
     "text": [
      "Harbourfront's latitude and longitude values are 43.806686299999996, -79.19435340000001.\n"
     ]
    }
   ],
   "source": [
    "Harbourfront_latitude = detailed_df.loc[0, 'Latitude']\n",
    "Harbourfront_longitude = detailed_df.loc[0, 'Longitude']\n",
    "print('Harbourfront\\'s latitude and longitude values are {}, {}.'.format(Harbourfront_latitude, Harbourfront_longitude))"
   ]
  },
  {
   "cell_type": "markdown",
   "metadata": {},
   "source": [
    "__Getting top 100 venues that are in Harbourfront within a radius of 500 meteres__"
   ]
  },
  {
   "cell_type": "code",
   "execution_count": 18,
   "metadata": {},
   "outputs": [
    {
     "data": {
      "text/plain": [
       "{'meta': {'code': 200, 'requestId': '5e442c8add0f850029b7b83a'},\n",
       " 'response': {'warning': {'text': \"There aren't a lot of results near you. Try something more general, reset your filters, or expand the search area.\"},\n",
       "  'headerLocation': 'Malvern',\n",
       "  'headerFullLocation': 'Malvern, Toronto',\n",
       "  'headerLocationGranularity': 'neighborhood',\n",
       "  'totalResults': 2,\n",
       "  'suggestedBounds': {'ne': {'lat': 43.8111863045, 'lng': -79.18812958073042},\n",
       "   'sw': {'lat': 43.80218629549999, 'lng': -79.2005772192696}},\n",
       "  'groups': [{'type': 'Recommended Places',\n",
       "    'name': 'recommended',\n",
       "    'items': [{'reasons': {'count': 0,\n",
       "       'items': [{'summary': 'This spot is popular',\n",
       "         'type': 'general',\n",
       "         'reasonName': 'globalInteractionReason'}]},\n",
       "      'venue': {'id': '4bb6b9446edc76b0d771311c',\n",
       "       'name': \"Wendy's\",\n",
       "       'location': {'crossStreet': 'Morningside & Sheppard',\n",
       "        'lat': 43.80744841934756,\n",
       "        'lng': -79.19905558052072,\n",
       "        'labeledLatLngs': [{'label': 'display',\n",
       "          'lat': 43.80744841934756,\n",
       "          'lng': -79.19905558052072}],\n",
       "        'distance': 387,\n",
       "        'cc': 'CA',\n",
       "        'city': 'Toronto',\n",
       "        'state': 'ON',\n",
       "        'country': 'Canada',\n",
       "        'formattedAddress': ['Toronto ON', 'Canada']},\n",
       "       'categories': [{'id': '4bf58dd8d48988d16e941735',\n",
       "         'name': 'Fast Food Restaurant',\n",
       "         'pluralName': 'Fast Food Restaurants',\n",
       "         'shortName': 'Fast Food',\n",
       "         'icon': {'prefix': 'https://ss3.4sqi.net/img/categories_v2/food/fastfood_',\n",
       "          'suffix': '.png'},\n",
       "         'primary': True}],\n",
       "       'photos': {'count': 0, 'groups': []}},\n",
       "      'referralId': 'e-0-4bb6b9446edc76b0d771311c-0'},\n",
       "     {'reasons': {'count': 0,\n",
       "       'items': [{'summary': 'This spot is popular',\n",
       "         'type': 'general',\n",
       "         'reasonName': 'globalInteractionReason'}]},\n",
       "      'venue': {'id': '5539e7d2498edaf4b02673ca',\n",
       "       'name': 'Interprovincial Group',\n",
       "       'location': {'address': '1315 Morningside Avenue',\n",
       "        'lat': 43.8056297,\n",
       "        'lng': -79.2003784,\n",
       "        'labeledLatLngs': [{'label': 'display',\n",
       "          'lat': 43.8056297,\n",
       "          'lng': -79.2003784}],\n",
       "        'distance': 498,\n",
       "        'postalCode': 'M1B 3C5',\n",
       "        'cc': 'CA',\n",
       "        'city': 'Scarborough',\n",
       "        'state': 'ON',\n",
       "        'country': 'Canada',\n",
       "        'formattedAddress': ['1315 Morningside Avenue',\n",
       "         'Scarborough ON M1B 3C5',\n",
       "         'Canada']},\n",
       "       'categories': [{'id': '52f2ab2ebcbc57f1066b8b28',\n",
       "         'name': 'Print Shop',\n",
       "         'pluralName': 'Print Shops',\n",
       "         'shortName': 'Print Shop',\n",
       "         'icon': {'prefix': 'https://ss3.4sqi.net/img/categories_v2/shops/default_',\n",
       "          'suffix': '.png'},\n",
       "         'primary': True}],\n",
       "       'photos': {'count': 0, 'groups': []}},\n",
       "      'referralId': 'e-0-5539e7d2498edaf4b02673ca-1'}]}]}}"
      ]
     },
     "execution_count": 18,
     "metadata": {},
     "output_type": "execute_result"
    }
   ],
   "source": [
    "venues = 100\n",
    "radius = 500\n",
    "url = 'https://api.foursquare.com/v2/venues/explore?&client_id={}&client_secret={}&v={}&ll={},{}&radius={}&limit={}'.format(client_id, client_secret, version, Harbourfront_latitude, Harbourfront_longitude, radius, venues)\n",
    "\n",
    "response = requests.get(url).json()\n",
    "response"
   ]
  },
  {
   "cell_type": "code",
   "execution_count": null,
   "metadata": {},
   "outputs": [],
   "source": []
  },
  {
   "cell_type": "code",
   "execution_count": null,
   "metadata": {},
   "outputs": [],
   "source": []
  }
 ],
 "metadata": {
  "kernelspec": {
   "display_name": "Python 3",
   "language": "python",
   "name": "python3"
  },
  "language_info": {
   "codemirror_mode": {
    "name": "ipython",
    "version": 3
   },
   "file_extension": ".py",
   "mimetype": "text/x-python",
   "name": "python",
   "nbconvert_exporter": "python",
   "pygments_lexer": "ipython3",
   "version": "3.7.4"
  }
 },
 "nbformat": 4,
 "nbformat_minor": 2
}
